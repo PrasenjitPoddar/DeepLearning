{
 "cells": [
  {
   "cell_type": "markdown",
   "metadata": {},
   "source": [
    "### Fashion MNIST"
   ]
  },
  {
   "cell_type": "markdown",
   "metadata": {},
   "source": [
    "#### To be precise, Fashion-MNIST is a dataset of Zalando's article images—consisting of a training set of 60,000 examples and a test set of 10,000 examples. Each example is a 28x28 grayscale image, associated with a label from 10 classes. Zalando intends Fashion-MNIST to serve as a direct drop-in replacement for the original MNIST dataset for benchmarking machine learning algorithms. It shares the same image size and structure of training and testing splits.\n",
    "- Folder path of train and test data"
   ]
  },
  {
   "cell_type": "code",
   "execution_count": 165,
   "metadata": {},
   "outputs": [],
   "source": [
    "TRAIN_DATA_FOLDER_PATH = \"./fashion_mnist/train-images-idx3-ubyte\"\n",
    "TRAIN_LABEL_FOLDER_PATH = \"./fashion_mnist/train-labels-idx1-ubyte\"\n",
    "TEST_DATA_FOLDER_PATH =  \"./fashion_mnist/t10k-images-idx3-ubyte\"\n",
    "TEST_LABEL_FOLDER_PATH = \"./fashion_mnist/t10k-labels-idx1-ubyte\""
   ]
  },
  {
   "cell_type": "markdown",
   "metadata": {},
   "source": [
    "- We use the following function to read the data (in ubyte form) and return it as a numpy array"
   ]
  },
  {
   "cell_type": "code",
   "execution_count": 166,
   "metadata": {},
   "outputs": [],
   "source": [
    "import struct\n",
    "import numpy as np\n",
    "\n",
    "def read_idx(filename):\n",
    "    \"\"\"Credit: https://gist.github.com/tylerneylon\"\"\"\n",
    "    with open(filename, 'rb') as f:\n",
    "        zero, data_type, dims = struct.unpack('>HBB', f.read(4))\n",
    "        shape = tuple(struct.unpack('>I', f.read(4))[0] for d in range(dims))\n",
    "        return np.frombuffer(f.read(), dtype=np.uint8).reshape(shape)"
   ]
  },
  {
   "cell_type": "code",
   "execution_count": 167,
   "metadata": {},
   "outputs": [],
   "source": [
    "def read_image_data(TRAIN_DATA_FOLDER_PATH, TRAIN_LABEL_FOLDER_PATH, \n",
    "                    TEST_DATA_FOLDER_PATH, TEST_LABEL_FOLDER_PATH):\n",
    "    \n",
    "    x_train = read_idx(TRAIN_DATA_FOLDER_PATH)\n",
    "    y_train = read_idx(TRAIN_LABEL_FOLDER_PATH)\n",
    "    x_test = read_idx(TEST_DATA_FOLDER_PATH)\n",
    "    y_test = read_idx(TEST_LABEL_FOLDER_PATH)\n",
    "    \n",
    "    return (x_train, y_train, x_test, y_test)"
   ]
  },
  {
   "cell_type": "code",
   "execution_count": 168,
   "metadata": {},
   "outputs": [
    {
     "name": "stdout",
     "output_type": "stream",
     "text": [
      "Initial shape or dimensions of x_train (60000, 28, 28)\n",
      "Labels in y_train:(60000,)\n",
      "\n",
      "Initial shape or dimensions of x_test (10000, 28, 28)\n",
      "Labels in y_test:(10000,)\n"
     ]
    }
   ],
   "source": [
    "x_train, y_train, x_test, y_test = read_image_data(TRAIN_DATA_FOLDER_PATH, \n",
    "                                                   TRAIN_LABEL_FOLDER_PATH, \n",
    "                                                   TEST_DATA_FOLDER_PATH, \n",
    "                                                   TEST_LABEL_FOLDER_PATH)\n",
    "\n",
    "print(\"Initial shape or dimensions of x_train\", str(x_train.shape))\n",
    "print (\"Labels in y_train:\" + str(y_train.shape))\n",
    "print()\n",
    "print(\"Initial shape or dimensions of x_test\", str(x_test.shape))\n",
    "print (\"Labels in y_test:\" + str(y_test.shape))"
   ]
  },
  {
   "cell_type": "markdown",
   "metadata": {},
   "source": [
    "### Plot some random images, say 6 images, from train dataset  "
   ]
  },
  {
   "cell_type": "code",
   "execution_count": 169,
   "metadata": {},
   "outputs": [
    {
     "data": {
      "image/png": "[encoded data removed]",
      "text/plain": [
       "<Figure size 432x288 with 6 Axes>"
      ]
     },
     "metadata": {
      "needs_background": "light"
     },
     "output_type": "display_data"
    }
   ],
   "source": [
    "import matplotlib.pyplot as plt\n",
    "\n",
    "fig, ax = plt.subplots(nrows=3, ncols=2)\n",
    "\n",
    "for row in ax:\n",
    "    for col in row:\n",
    "        random_num = np.random.randint(0,len(x_train))\n",
    "        col.imshow(x_train[random_num], cmap=plt.get_cmap('gray'))"
   ]
  },
  {
   "cell_type": "code",
   "execution_count": 170,
   "metadata": {},
   "outputs": [],
   "source": [
    "def reshape_data(x_train, x_test):\n",
    "    \n",
    "    # Lets store the number of rows and columns\n",
    "    img_rows = x_train[0].shape[0]\n",
    "    img_cols = x_train[1].shape[0]\n",
    "\n",
    "    # Getting our date in the right 'shape' needed for Keras\n",
    "    # We need to add a 4th dimenion to our date thereby changing our\n",
    "    # Our original image shape of (60000,28,28) to (60000,28,28,1)\n",
    "    x_train = x_train.reshape(x_train.shape[0], img_rows, img_cols, 1)\n",
    "    x_test = x_test.reshape(x_test.shape[0], img_rows, img_cols, 1)\n",
    "    \n",
    "    # store the shape of a single image \n",
    "    input_shape = (img_rows, img_cols, 1)\n",
    "    \n",
    "    return x_train, x_test, input_shape"
   ]
  },
  {
   "cell_type": "code",
   "execution_count": 171,
   "metadata": {},
   "outputs": [],
   "source": [
    "def normalize_data(x_train, x_test):\n",
    "    \n",
    "    # change our image type to float32 data type\n",
    "    x_train = x_train.astype('float32')\n",
    "    x_test = x_test.astype('float32')\n",
    "\n",
    "    # Normalize our data by changing the range from (0 to 255) to (0 to 1)\n",
    "    x_train /= 255\n",
    "    x_test /= 255\n",
    "    \n",
    "    return x_train, x_test"
   ]
  },
  {
   "cell_type": "markdown",
   "metadata": {},
   "source": [
    "### Building CNN model \n",
    "- 2 Conv Layers and 1 Flatten Layer\n",
    "- BatchNormalization\n",
    "- Optimizer : Adadelta"
   ]
  },
  {
   "cell_type": "code",
   "execution_count": 172,
   "metadata": {},
   "outputs": [],
   "source": [
    "from keras.datasets import mnist\n",
    "from keras.utils import np_utils\n",
    "import keras\n",
    "from keras.datasets import mnist\n",
    "from keras.models import Sequential\n",
    "from keras.layers import Dense, Dropout, Flatten\n",
    "from keras.layers import Conv2D, MaxPooling2D, BatchNormalization\n",
    "from keras import backend as K\n",
    "\n",
    "def cnn_model(input_shape, num_classes, optimizer = \"Adadelta\"):\n",
    "    \n",
    "    if optimizer == \"Adadelta\" :\n",
    "        optimizer = keras.optimizers.Adadelta()\n",
    "        \n",
    "    \n",
    "    model = Sequential()\n",
    "\n",
    "    model.add(Conv2D(32, kernel_size=(3, 3),\n",
    "                     activation='relu',\n",
    "                     input_shape=input_shape))\n",
    "    model.add(BatchNormalization())\n",
    "\n",
    "    model.add(Conv2D(64, (3, 3), activation='relu'))\n",
    "    model.add(BatchNormalization())\n",
    "\n",
    "    model.add(MaxPooling2D(pool_size=(2, 2)))\n",
    "    model.add(Dropout(0.25))\n",
    "\n",
    "    model.add(Flatten())\n",
    "    model.add(Dense(128, activation='relu'))\n",
    "    model.add(BatchNormalization())\n",
    "\n",
    "    model.add(Dropout(0.5))\n",
    "    model.add(Dense(num_classes, activation='softmax'))\n",
    "\n",
    "    model.compile(loss = 'categorical_crossentropy',\n",
    "                  optimizer = optimizer,\n",
    "                  metrics = ['accuracy'])\n",
    "    \n",
    "    return model"
   ]
  },
  {
   "cell_type": "code",
   "execution_count": 173,
   "metadata": {},
   "outputs": [
    {
     "name": "stdout",
     "output_type": "stream",
     "text": [
      "Number of Classes: 10\n",
      "Train on 60000 samples, validate on 10000 samples\n",
      "Epoch 1/5\n",
      "60000/60000 [==============================] - 181s 3ms/step - loss: 0.4456 - accuracy: 0.8462 - val_loss: 2.4010 - val_accuracy: 0.3738\n",
      "Epoch 2/5\n",
      "60000/60000 [==============================] - 176s 3ms/step - loss: 0.2826 - accuracy: 0.9004 - val_loss: 0.2601 - val_accuracy: 0.9075\n",
      "Epoch 3/5\n",
      "60000/60000 [==============================] - 170s 3ms/step - loss: 0.2323 - accuracy: 0.9166 - val_loss: 0.2624 - val_accuracy: 0.9034\n",
      "Epoch 4/5\n",
      "60000/60000 [==============================] - 172s 3ms/step - loss: 0.2050 - accuracy: 0.9262 - val_loss: 0.2345 - val_accuracy: 0.9163\n",
      "Epoch 5/5\n",
      "60000/60000 [==============================] - 173s 3ms/step - loss: 0.1827 - accuracy: 0.9347 - val_loss: 0.2227 - val_accuracy: 0.9187\n",
      "Test loss: 0.2226532601237297\n",
      "Test accuracy: 0.9186999797821045\n"
     ]
    }
   ],
   "source": [
    "# training parameters\n",
    "batch_size = 128\n",
    "epochs = 5\n",
    "\n",
    "# reshape and normalize train and test data\n",
    "x_reshape_train, x_reshape_test, input_shape = reshape_data(x_train, x_test)\n",
    "x_norm_train, x_norm_test = normalize_data(x_reshape_train, x_reshape_test)\n",
    "\n",
    "\n",
    "# one hot encode transformation on outputs\n",
    "y_encode_train = np_utils.to_categorical(y_train)\n",
    "y_encode_test = np_utils.to_categorical(y_test)\n",
    "\n",
    "\n",
    "print (\"Number of Classes: \" + str(y_encode_train.shape[1]))\n",
    "\n",
    "num_classes = y_encode_train.shape[1]\n",
    "\n",
    "model = cnn_model(input_shape, num_classes, optimizer = \"Adadelta\")\n",
    "\n",
    "\n",
    "history = model.fit(x_norm_train, y_encode_train,\n",
    "          batch_size=batch_size,\n",
    "          epochs=epochs,\n",
    "          verbose=1,\n",
    "          validation_data=(x_norm_test, y_encode_test))\n",
    "\n",
    "score = model.evaluate(x_norm_test, y_encode_test, verbose=0)\n",
    "print('Test loss : {}, Test accuracy: {}'.format(score[0], score[1]))"
   ]
  },
  {
   "cell_type": "code",
   "execution_count": 176,
   "metadata": {},
   "outputs": [],
   "source": [
    "label = {0:\"T-shirt/top \", 1:\"Trouser\", 2:\"Pullover\", 3:\"Dress\", 4:\"Coat\",\n",
    "         5:\"Sandal\", 6:\"Shirt\", 7:\"Sneaker\", 8:\"Bag\", 9:\"Ankle boot\"}\n",
    "\n",
    "def draw_test(name, pred, actual, input_im):\n",
    "    \n",
    "    BLACK = [0,0,0]\n",
    "    \n",
    "    res = label[int(pred)]\n",
    "    actual = label[int(actual)]\n",
    "\n",
    "    expanded_image = cv2.copyMakeBorder(input_im, 0, 0, 0, 4*imageL.shape[0] ,cv2.BORDER_CONSTANT,value=BLACK)\n",
    "    expanded_image = cv2.cvtColor(expanded_image, cv2.COLOR_GRAY2BGR)\n",
    "    cv2.putText(expanded_image, \"Predicted - \" + str(res), (152, 70) , cv2.FONT_HERSHEY_COMPLEX_SMALL,1, (0,255,0), 1)\n",
    "    cv2.putText(expanded_image, \"   Actual - \" + str(actual), (152, 90) , cv2.FONT_HERSHEY_COMPLEX_SMALL,1, (0,0,255), 1)\n",
    "    cv2.imshow(name, expanded_image)"
   ]
  },
  {
   "cell_type": "code",
   "execution_count": 177,
   "metadata": {},
   "outputs": [],
   "source": [
    "import cv2\n",
    "\n",
    "for i in range(0,10):\n",
    "    rand = np.random.randint(0,len(x_test))\n",
    "    input_im = x_norm_test[rand]\n",
    "    actual = y_encode_test[rand].argmax(axis=0)\n",
    "    imageL = cv2.resize(input_im, None, fx=4, fy=4, interpolation = cv2.INTER_CUBIC)\n",
    "    input_im = input_im.reshape(1,28,28,1) \n",
    "    \n",
    "    ## Get Prediction\n",
    "    res = str(model.predict_classes(input_im, 1, verbose = 0)[0])\n",
    "    \n",
    "    draw_test(\"Prediction\", res, actual, imageL) \n",
    "    cv2.waitKey(0)\n",
    "\n",
    "cv2.destroyAllWindows()"
   ]
  },
  {
   "cell_type": "code",
   "execution_count": null,
   "metadata": {},
   "outputs": [],
   "source": []
  }
 ],
 "metadata": {
  "kernelspec": {
   "display_name": "Python 3",
   "language": "python",
   "name": "python3"
  },
  "language_info": {
   "codemirror_mode": {
    "name": "ipython",
    "version": 3
   },
   "file_extension": ".py",
   "mimetype": "text/x-python",
   "name": "python",
   "nbconvert_exporter": "python",
   "pygments_lexer": "ipython3",
   "version": "3.7.7"
  }
 },
 "nbformat": 4,
 "nbformat_minor": 2
}
